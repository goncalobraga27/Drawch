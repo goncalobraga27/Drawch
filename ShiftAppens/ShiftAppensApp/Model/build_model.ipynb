{
 "cells": [
  {
   "cell_type": "markdown",
   "metadata": {},
   "source": [
    "## Load data"
   ]
  },
  {
   "cell_type": "code",
   "execution_count": 6,
   "metadata": {},
   "outputs": [],
   "source": [
    "import os\n",
    "import glob\n",
    "import numpy as np\n",
    "from tensorflow.keras import layers\n",
    "from tensorflow import keras \n",
    "import tensorflow as tf\n",
    "\n",
    "all_files = ['airplane', 'ant', 'banana', 'bicycle', 'bridge', 'butterfly', 'castle', 'chair', 'cookie', 'diamond', 'donut', 'The_Eiffel_Tower', 'tiger']\n",
    "i = 0\n",
    "while i < len(all_files):\n",
    "    all_files[i] = \"full_numpy_bitmap_\" + all_files[i] + \".npy\"\n",
    "    i +=1 \n",
    "\n",
    "max_items_per_class = 7500\n",
    "\n",
    "x = np.empty([0, 784])\n",
    "y = np.empty([0])\n",
    "class_names = []\n",
    "\n",
    "#load a subset of the data to memory \n",
    "for idx, file in enumerate(all_files):\n",
    "    data = np.load(\"Images/\" + file)\n",
    "    data = data[0: max_items_per_class, :]\n",
    "    labels = np.full(data.shape[0], idx)\n",
    "    x = np.concatenate((x, data), axis=0)\n",
    "    y = np.append(y, labels)\n",
    "    class_name, ext = os.path.splitext(os.path.basename(file))\n",
    "    class_names.append(class_name.replace('full_numpy_bitmap_', ''))\n",
    "\n",
    "#separate into training and testing \n",
    "permutation = np.random.permutation(y.shape[0])\n",
    "x = x[permutation, :]\n",
    "y = y[permutation]\n",
    "\n",
    "vfold_size = int(x.shape[0]/100*(0.2*100))\n",
    "\n",
    "x_test = x[0:vfold_size, :]\n",
    "y_test = y[0:vfold_size]\n",
    "\n",
    "x_train = x[vfold_size:x.shape[0], :]\n",
    "y_train = y[vfold_size:y.shape[0]]"
   ]
  },
  {
   "cell_type": "markdown",
   "metadata": {},
   "source": [
    "## Preprocess the data"
   ]
  },
  {
   "cell_type": "code",
   "execution_count": 7,
   "metadata": {},
   "outputs": [],
   "source": [
    "# Reshape and normalize\n",
    "x_train = x_train.reshape(x_train.shape[0], 28, 28, 1).astype('float32')\n",
    "x_test = x_test.reshape(x_test.shape[0], 28, 28, 1).astype('float32')\n",
    "\n",
    "x_train /= 255.0\n",
    "x_test /= 255.0\n",
    "\n",
    "# Convert class vectors to class matrices\n",
    "y_train = keras.utils.to_categorical(y_train, len(class_names))\n",
    "y_test = keras.utils.to_categorical(y_test, len(class_names))"
   ]
  },
  {
   "cell_type": "markdown",
   "metadata": {},
   "source": [
    "## Build the model"
   ]
  },
  {
   "cell_type": "code",
   "execution_count": 8,
   "metadata": {},
   "outputs": [
    {
     "name": "stdout",
     "output_type": "stream",
     "text": [
      "Model: \"sequential_1\"\n",
      "_________________________________________________________________\n",
      " Layer (type)                Output Shape              Param #   \n",
      "=================================================================\n",
      " conv2d_3 (Conv2D)           (None, 28, 28, 16)        160       \n",
      "                                                                 \n",
      " max_pooling2d_3 (MaxPoolin  (None, 14, 14, 16)        0         \n",
      " g2D)                                                            \n",
      "                                                                 \n",
      " conv2d_4 (Conv2D)           (None, 14, 14, 32)        4640      \n",
      "                                                                 \n",
      " max_pooling2d_4 (MaxPoolin  (None, 7, 7, 32)          0         \n",
      " g2D)                                                            \n",
      "                                                                 \n",
      " conv2d_5 (Conv2D)           (None, 7, 7, 64)          18496     \n",
      "                                                                 \n",
      " max_pooling2d_5 (MaxPoolin  (None, 3, 3, 64)          0         \n",
      " g2D)                                                            \n",
      "                                                                 \n",
      " flatten_1 (Flatten)         (None, 576)               0         \n",
      "                                                                 \n",
      " dense_2 (Dense)             (None, 128)               73856     \n",
      "                                                                 \n",
      " dense_3 (Dense)             (None, 13)                1677      \n",
      "                                                                 \n",
      "=================================================================\n",
      "Total params: 98829 (386.05 KB)\n",
      "Trainable params: 98829 (386.05 KB)\n",
      "Non-trainable params: 0 (0.00 Byte)\n",
      "_________________________________________________________________\n"
     ]
    }
   ],
   "source": [
    "# Define model\n",
    "model = keras.Sequential()\n",
    "model.add(layers.Convolution2D(16, (3, 3),\n",
    "                        padding='same',\n",
    "                        input_shape=x_train.shape[1:], activation='relu'))\n",
    "model.add(layers.MaxPooling2D(pool_size=(2, 2)))\n",
    "model.add(layers.Convolution2D(32, (3, 3), padding='same', activation= 'relu'))\n",
    "model.add(layers.MaxPooling2D(pool_size=(2, 2)))\n",
    "model.add(layers.Convolution2D(64, (3, 3), padding='same', activation= 'relu'))\n",
    "model.add(layers.MaxPooling2D(pool_size =(2,2)))\n",
    "model.add(layers.Flatten())\n",
    "model.add(layers.Dense(128, activation='relu'))\n",
    "model.add(layers.Dense(len(class_names), activation='softmax')) \n",
    "# Train model\n",
    "model.compile(loss='categorical_crossentropy',\n",
    "              optimizer='adam',\n",
    "              metrics=['top_k_categorical_accuracy'])\n",
    "model.summary()"
   ]
  },
  {
   "cell_type": "code",
   "execution_count": 9,
   "metadata": {},
   "outputs": [
    {
     "name": "stdout",
     "output_type": "stream",
     "text": [
      "Epoch 1/10\n",
      "305/305 - 20s - loss: 0.8451 - top_k_categorical_accuracy: 0.9486 - 20s/epoch - 65ms/step\n",
      "Epoch 2/10\n",
      "305/305 - 17s - loss: 0.4092 - top_k_categorical_accuracy: 0.9815 - 17s/epoch - 55ms/step\n",
      "Epoch 3/10\n",
      "305/305 - 16s - loss: 0.3268 - top_k_categorical_accuracy: 0.9852 - 16s/epoch - 54ms/step\n",
      "Epoch 4/10\n",
      "305/305 - 16s - loss: 0.2858 - top_k_categorical_accuracy: 0.9870 - 16s/epoch - 54ms/step\n",
      "Epoch 5/10\n",
      "305/305 - 16s - loss: 0.2575 - top_k_categorical_accuracy: 0.9882 - 16s/epoch - 54ms/step\n",
      "Epoch 6/10\n",
      "305/305 - 17s - loss: 0.2372 - top_k_categorical_accuracy: 0.9889 - 17s/epoch - 54ms/step\n",
      "Epoch 7/10\n",
      "305/305 - 17s - loss: 0.2194 - top_k_categorical_accuracy: 0.9900 - 17s/epoch - 55ms/step\n",
      "Epoch 8/10\n",
      "305/305 - 18s - loss: 0.2034 - top_k_categorical_accuracy: 0.9909 - 18s/epoch - 58ms/step\n",
      "Epoch 9/10\n",
      "305/305 - 18s - loss: 0.1883 - top_k_categorical_accuracy: 0.9920 - 18s/epoch - 59ms/step\n",
      "Epoch 10/10\n",
      "305/305 - 18s - loss: 0.1763 - top_k_categorical_accuracy: 0.9923 - 18s/epoch - 59ms/step\n",
      "Test accuracy: 98.77%\n"
     ]
    }
   ],
   "source": [
    "#fit the model \n",
    "model.fit(x_train, y_train, batch_size = 256, verbose=2, epochs=10)\n",
    "\n",
    "#evaluate on unseeFor prediction we use model.predict this will return probabilities of the shape [N, 100n data\n",
    "score = model.evaluate(x_test, y_test, verbose=0)\n",
    "print('Test accuracy: {:0.2f}%'.format(score[1] * 100))"
   ]
  },
  {
   "cell_type": "code",
   "execution_count": 10,
   "metadata": {},
   "outputs": [
    {
     "name": "stderr",
     "output_type": "stream",
     "text": [
      "/home/goncalo/miniconda3/envs/geral/lib/python3.10/site-packages/keras/src/engine/training.py:3103: UserWarning: You are saving your model as an HDF5 file via `model.save()`. This file format is considered legacy. We recommend using instead the native Keras format, e.g. `model.save('my_model.keras')`.\n",
      "  saving_api.save_model(\n"
     ]
    }
   ],
   "source": [
    "model.save('pretrained_model.h5')"
   ]
  }
 ],
 "metadata": {
  "kernelspec": {
   "display_name": "geral",
   "language": "python",
   "name": "python3"
  },
  "language_info": {
   "codemirror_mode": {
    "name": "ipython",
    "version": 3
   },
   "file_extension": ".py",
   "mimetype": "text/x-python",
   "name": "python",
   "nbconvert_exporter": "python",
   "pygments_lexer": "ipython3",
   "version": "3.10.0"
  }
 },
 "nbformat": 4,
 "nbformat_minor": 2
}
