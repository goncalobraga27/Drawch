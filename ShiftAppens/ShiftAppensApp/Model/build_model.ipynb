{
 "cells": [
  {
   "cell_type": "markdown",
   "metadata": {},
   "source": [
    "## Load data"
   ]
  },
  {
   "cell_type": "code",
   "execution_count": 1,
   "metadata": {},
   "outputs": [
    {
     "name": "stderr",
     "output_type": "stream",
     "text": [
      "2024-04-20 23:08:01.029922: I tensorflow/core/util/port.cc:113] oneDNN custom operations are on. You may see slightly different numerical results due to floating-point round-off errors from different computation orders. To turn them off, set the environment variable `TF_ENABLE_ONEDNN_OPTS=0`.\n",
      "2024-04-20 23:08:01.091782: I external/local_tsl/tsl/cuda/cudart_stub.cc:31] Could not find cuda drivers on your machine, GPU will not be used.\n",
      "2024-04-20 23:08:01.362530: E external/local_xla/xla/stream_executor/cuda/cuda_dnn.cc:9261] Unable to register cuDNN factory: Attempting to register factory for plugin cuDNN when one has already been registered\n",
      "2024-04-20 23:08:01.362669: E external/local_xla/xla/stream_executor/cuda/cuda_fft.cc:607] Unable to register cuFFT factory: Attempting to register factory for plugin cuFFT when one has already been registered\n",
      "2024-04-20 23:08:01.401845: E external/local_xla/xla/stream_executor/cuda/cuda_blas.cc:1515] Unable to register cuBLAS factory: Attempting to register factory for plugin cuBLAS when one has already been registered\n",
      "2024-04-20 23:08:01.492532: I external/local_tsl/tsl/cuda/cudart_stub.cc:31] Could not find cuda drivers on your machine, GPU will not be used.\n",
      "2024-04-20 23:08:01.494171: I tensorflow/core/platform/cpu_feature_guard.cc:182] This TensorFlow binary is optimized to use available CPU instructions in performance-critical operations.\n",
      "To enable the following instructions: AVX2 AVX512F AVX512_VNNI FMA, in other operations, rebuild TensorFlow with the appropriate compiler flags.\n",
      "2024-04-20 23:08:04.230989: W tensorflow/compiler/tf2tensorrt/utils/py_utils.cc:38] TF-TRT Warning: Could not find TensorRT\n"
     ]
    }
   ],
   "source": [
    "import os\n",
    "import glob\n",
    "import numpy as np\n",
    "from tensorflow.keras import layers\n",
    "from tensorflow import keras \n",
    "import tensorflow as tf\n",
    "\n",
    "all_files = ['airplane', 'ant', 'axe', 'banana', 'bicycle', 'bridge', 'butterfly', 'castle', 'chair', 'diamond', 'donut', 'The_Eiffel_Tower']\n",
    "i = 0\n",
    "while i < len(all_files):\n",
    "    all_files[i] = \"full_numpy_bitmap_\" + all_files[i] + \".npy\"\n",
    "    i +=1 \n",
    "\n",
    "max_items_per_class = 7500\n",
    "\n",
    "x = np.empty([0, 784])\n",
    "y = np.empty([0])\n",
    "class_names = []\n",
    "\n",
    "#load a subset of the data to memory \n",
    "for idx, file in enumerate(all_files):\n",
    "    data = np.load(\"Images/\" + file)\n",
    "    data = data[0: max_items_per_class, :]\n",
    "    labels = np.full(data.shape[0], idx)\n",
    "    x = np.concatenate((x, data), axis=0)\n",
    "    y = np.append(y, labels)\n",
    "    class_name, ext = os.path.splitext(os.path.basename(file))\n",
    "    class_names.append(class_name.replace('full_numpy_bitmap_', ''))\n",
    "\n",
    "#separate into training and testing \n",
    "permutation = np.random.permutation(y.shape[0])\n",
    "x = x[permutation, :]\n",
    "y = y[permutation]\n",
    "\n",
    "vfold_size = int(x.shape[0]/100*(0.2*100))\n",
    "\n",
    "x_test = x[0:vfold_size, :]\n",
    "y_test = y[0:vfold_size]\n",
    "\n",
    "x_train = x[vfold_size:x.shape[0], :]\n",
    "y_train = y[vfold_size:y.shape[0]]"
   ]
  },
  {
   "cell_type": "markdown",
   "metadata": {},
   "source": [
    "## Preprocess the data"
   ]
  },
  {
   "cell_type": "code",
   "execution_count": 2,
   "metadata": {},
   "outputs": [],
   "source": [
    "# Reshape and normalize\n",
    "x_train = x_train.reshape(x_train.shape[0], 28, 28, 1).astype('float32')\n",
    "x_test = x_test.reshape(x_test.shape[0], 28, 28, 1).astype('float32')\n",
    "\n",
    "x_train /= 255.0\n",
    "x_test /= 255.0\n",
    "\n",
    "# Convert class vectors to class matrices\n",
    "y_train = keras.utils.to_categorical(y_train, len(class_names))\n",
    "y_test = keras.utils.to_categorical(y_test, len(class_names))"
   ]
  },
  {
   "cell_type": "markdown",
   "metadata": {},
   "source": [
    "## Build the model"
   ]
  },
  {
   "cell_type": "code",
   "execution_count": 3,
   "metadata": {},
   "outputs": [
    {
     "name": "stderr",
     "output_type": "stream",
     "text": [
      "2024-04-20 23:08:19.405069: E external/local_xla/xla/stream_executor/cuda/cuda_driver.cc:274] failed call to cuInit: CUDA_ERROR_UNKNOWN: unknown error\n",
      "2024-04-20 23:08:19.405128: I external/local_xla/xla/stream_executor/cuda/cuda_diagnostics.cc:129] retrieving CUDA diagnostic information for host: 183sawyer\n",
      "2024-04-20 23:08:19.405139: I external/local_xla/xla/stream_executor/cuda/cuda_diagnostics.cc:136] hostname: 183sawyer\n",
      "2024-04-20 23:08:19.405315: I external/local_xla/xla/stream_executor/cuda/cuda_diagnostics.cc:159] libcuda reported version is: 525.147.5\n",
      "2024-04-20 23:08:19.405351: I external/local_xla/xla/stream_executor/cuda/cuda_diagnostics.cc:163] kernel reported version is: 525.147.5\n",
      "2024-04-20 23:08:19.405359: I external/local_xla/xla/stream_executor/cuda/cuda_diagnostics.cc:241] kernel version seems to match DSO: 525.147.5\n"
     ]
    },
    {
     "name": "stdout",
     "output_type": "stream",
     "text": [
      "Model: \"sequential\"\n",
      "_________________________________________________________________\n",
      " Layer (type)                Output Shape              Param #   \n",
      "=================================================================\n",
      " conv2d (Conv2D)             (None, 28, 28, 16)        160       \n",
      "                                                                 \n",
      " max_pooling2d (MaxPooling2  (None, 14, 14, 16)        0         \n",
      " D)                                                              \n",
      "                                                                 \n",
      " conv2d_1 (Conv2D)           (None, 14, 14, 32)        4640      \n",
      "                                                                 \n",
      " max_pooling2d_1 (MaxPoolin  (None, 7, 7, 32)          0         \n",
      " g2D)                                                            \n",
      "                                                                 \n",
      " conv2d_2 (Conv2D)           (None, 7, 7, 64)          18496     \n",
      "                                                                 \n",
      " max_pooling2d_2 (MaxPoolin  (None, 3, 3, 64)          0         \n",
      " g2D)                                                            \n",
      "                                                                 \n",
      " flatten (Flatten)           (None, 576)               0         \n",
      "                                                                 \n",
      " dense (Dense)               (None, 128)               73856     \n",
      "                                                                 \n",
      " dense_1 (Dense)             (None, 12)                1548      \n",
      "                                                                 \n",
      "=================================================================\n",
      "Total params: 98700 (385.55 KB)\n",
      "Trainable params: 98700 (385.55 KB)\n",
      "Non-trainable params: 0 (0.00 Byte)\n",
      "_________________________________________________________________\n"
     ]
    }
   ],
   "source": [
    "# Define model\n",
    "model = keras.Sequential()\n",
    "model.add(layers.Convolution2D(16, (3, 3),\n",
    "                        padding='same',\n",
    "                        input_shape=x_train.shape[1:], activation='relu'))\n",
    "model.add(layers.MaxPooling2D(pool_size=(2, 2)))\n",
    "model.add(layers.Convolution2D(32, (3, 3), padding='same', activation= 'relu'))\n",
    "model.add(layers.MaxPooling2D(pool_size=(2, 2)))\n",
    "model.add(layers.Convolution2D(64, (3, 3), padding='same', activation= 'relu'))\n",
    "model.add(layers.MaxPooling2D(pool_size =(2,2)))\n",
    "model.add(layers.Flatten())\n",
    "model.add(layers.Dense(128, activation='relu'))\n",
    "model.add(layers.Dense(len(class_names), activation='softmax')) \n",
    "# Train model\n",
    "model.compile(loss='categorical_crossentropy',\n",
    "              optimizer='adam',\n",
    "              metrics=['top_k_categorical_accuracy'])\n",
    "model.summary()"
   ]
  },
  {
   "cell_type": "code",
   "execution_count": 4,
   "metadata": {},
   "outputs": [
    {
     "name": "stdout",
     "output_type": "stream",
     "text": [
      "Epoch 1/10\n",
      "282/282 - 20s - loss: 0.7406 - top_k_categorical_accuracy: 0.9534 - 20s/epoch - 71ms/step\n",
      "Epoch 2/10\n",
      "282/282 - 14s - loss: 0.3501 - top_k_categorical_accuracy: 0.9824 - 14s/epoch - 50ms/step\n",
      "Epoch 3/10\n",
      "282/282 - 12s - loss: 0.2841 - top_k_categorical_accuracy: 0.9855 - 12s/epoch - 44ms/step\n",
      "Epoch 4/10\n",
      "282/282 - 12s - loss: 0.2505 - top_k_categorical_accuracy: 0.9869 - 12s/epoch - 44ms/step\n",
      "Epoch 5/10\n",
      "282/282 - 13s - loss: 0.2245 - top_k_categorical_accuracy: 0.9883 - 13s/epoch - 47ms/step\n",
      "Epoch 6/10\n",
      "282/282 - 16s - loss: 0.2093 - top_k_categorical_accuracy: 0.9893 - 16s/epoch - 57ms/step\n",
      "Epoch 7/10\n",
      "282/282 - 18s - loss: 0.1914 - top_k_categorical_accuracy: 0.9905 - 18s/epoch - 63ms/step\n",
      "Epoch 8/10\n",
      "282/282 - 16s - loss: 0.1788 - top_k_categorical_accuracy: 0.9913 - 16s/epoch - 58ms/step\n",
      "Epoch 9/10\n",
      "282/282 - 17s - loss: 0.1674 - top_k_categorical_accuracy: 0.9921 - 17s/epoch - 59ms/step\n",
      "Epoch 10/10\n",
      "282/282 - 16s - loss: 0.1549 - top_k_categorical_accuracy: 0.9930 - 16s/epoch - 58ms/step\n",
      "Test accuracy: 98.91%\n"
     ]
    }
   ],
   "source": [
    "#fit the model \n",
    "model.fit(x_train, y_train, batch_size = 256, verbose=2, epochs=10)\n",
    "\n",
    "#evaluate on unseeFor prediction we use model.predict this will return probabilities of the shape [N, 100n data\n",
    "score = model.evaluate(x_test, y_test, verbose=0)\n",
    "print('Test accuracy: {:0.2f}%'.format(score[1] * 100))"
   ]
  },
  {
   "cell_type": "code",
   "execution_count": 5,
   "metadata": {},
   "outputs": [
    {
     "name": "stderr",
     "output_type": "stream",
     "text": [
      "/home/goncalo/miniconda3/envs/geral/lib/python3.10/site-packages/keras/src/engine/training.py:3103: UserWarning: You are saving your model as an HDF5 file via `model.save()`. This file format is considered legacy. We recommend using instead the native Keras format, e.g. `model.save('my_model.keras')`.\n",
      "  saving_api.save_model(\n"
     ]
    }
   ],
   "source": [
    "model.save('pretrained_model.h5')"
   ]
  }
 ],
 "metadata": {
  "kernelspec": {
   "display_name": "geral",
   "language": "python",
   "name": "python3"
  },
  "language_info": {
   "codemirror_mode": {
    "name": "ipython",
    "version": 3
   },
   "file_extension": ".py",
   "mimetype": "text/x-python",
   "name": "python",
   "nbconvert_exporter": "python",
   "pygments_lexer": "ipython3",
   "version": "3.10.0"
  }
 },
 "nbformat": 4,
 "nbformat_minor": 2
}
