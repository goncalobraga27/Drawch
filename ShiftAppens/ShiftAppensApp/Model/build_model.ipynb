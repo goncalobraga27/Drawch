{
 "cells": [
  {
   "cell_type": "markdown",
   "metadata": {},
   "source": [
    "## Load data"
   ]
  },
  {
   "cell_type": "code",
   "execution_count": 7,
   "metadata": {},
   "outputs": [],
   "source": [
    "import os\n",
    "import glob\n",
    "import numpy as np\n",
    "from tensorflow.keras import layers\n",
    "from tensorflow import keras \n",
    "import tensorflow as tf\n",
    "\n",
    "# all_files_model1 = ['airplane', 'ant', 'axe', 'banana', 'bicycle', 'bridge', 'butterfly', 'castle', 'cat', 'chair', 'diamond', 'donut', 'The_Eiffel_Tower']\n",
    "all_files = ['apple', 'banana', 'cup', 'finger', 'fish', 'key', 'smiley_face', 'sock', 'sword']\n",
    "i = 0\n",
    "while i < len(all_files):\n",
    "    all_files[i] = \"full_numpy_bitmap_\" + all_files[i] + \".npy\"\n",
    "    i +=1 \n",
    "\n",
    "max_items_per_class = 7500\n",
    "\n",
    "x = np.empty([0, 784])\n",
    "y = np.empty([0])\n",
    "class_names = []\n",
    "\n",
    "#load a subset of the data to memory \n",
    "for idx, file in enumerate(all_files):\n",
    "    data = np.load(\"Images/\" + file)\n",
    "    data = data[0: max_items_per_class, :]\n",
    "    labels = np.full(data.shape[0], idx)\n",
    "    x = np.concatenate((x, data), axis=0)\n",
    "    y = np.append(y, labels)\n",
    "    class_name, ext = os.path.splitext(os.path.basename(file))\n",
    "    class_names.append(class_name.replace('full_numpy_bitmap_', ''))\n",
    "\n",
    "#separate into training and testing \n",
    "permutation = np.random.permutation(y.shape[0])\n",
    "x = x[permutation, :]\n",
    "y = y[permutation]\n",
    "\n",
    "vfold_size = int(x.shape[0]/100*(0.2*100))\n",
    "\n",
    "x_test = x[0:vfold_size, :]\n",
    "y_test = y[0:vfold_size]\n",
    "\n",
    "x_train = x[vfold_size:x.shape[0], :]\n",
    "y_train = y[vfold_size:y.shape[0]]"
   ]
  },
  {
   "cell_type": "markdown",
   "metadata": {},
   "source": [
    "## Preprocess the data"
   ]
  },
  {
   "cell_type": "code",
   "execution_count": 8,
   "metadata": {},
   "outputs": [],
   "source": [
    "# Reshape and normalize\n",
    "x_train = x_train.reshape(x_train.shape[0], 28, 28, 1).astype('float32')\n",
    "x_test = x_test.reshape(x_test.shape[0], 28, 28, 1).astype('float32')\n",
    "\n",
    "x_train /= 255.0\n",
    "x_test /= 255.0\n",
    "\n",
    "# Convert class vectors to class matrices\n",
    "y_train = keras.utils.to_categorical(y_train, len(class_names))\n",
    "y_test = keras.utils.to_categorical(y_test, len(class_names))"
   ]
  },
  {
   "cell_type": "markdown",
   "metadata": {},
   "source": [
    "## Build the model"
   ]
  },
  {
   "cell_type": "code",
   "execution_count": 9,
   "metadata": {},
   "outputs": [
    {
     "name": "stdout",
     "output_type": "stream",
     "text": [
      "Model: \"sequential_1\"\n",
      "_________________________________________________________________\n",
      " Layer (type)                Output Shape              Param #   \n",
      "=================================================================\n",
      " conv2d_3 (Conv2D)           (None, 28, 28, 16)        160       \n",
      "                                                                 \n",
      " max_pooling2d_3 (MaxPoolin  (None, 14, 14, 16)        0         \n",
      " g2D)                                                            \n",
      "                                                                 \n",
      " conv2d_4 (Conv2D)           (None, 14, 14, 32)        4640      \n",
      "                                                                 \n",
      " max_pooling2d_4 (MaxPoolin  (None, 7, 7, 32)          0         \n",
      " g2D)                                                            \n",
      "                                                                 \n",
      " conv2d_5 (Conv2D)           (None, 7, 7, 64)          18496     \n",
      "                                                                 \n",
      " max_pooling2d_5 (MaxPoolin  (None, 3, 3, 64)          0         \n",
      " g2D)                                                            \n",
      "                                                                 \n",
      " flatten_1 (Flatten)         (None, 576)               0         \n",
      "                                                                 \n",
      " dense_2 (Dense)             (None, 128)               73856     \n",
      "                                                                 \n",
      " dense_3 (Dense)             (None, 9)                 1161      \n",
      "                                                                 \n",
      "=================================================================\n",
      "Total params: 98313 (384.04 KB)\n",
      "Trainable params: 98313 (384.04 KB)\n",
      "Non-trainable params: 0 (0.00 Byte)\n",
      "_________________________________________________________________\n"
     ]
    }
   ],
   "source": [
    "# Define model\n",
    "model = keras.Sequential()\n",
    "model.add(layers.Convolution2D(16, (3, 3),\n",
    "                        padding='same',\n",
    "                        input_shape=x_train.shape[1:], activation='relu'))\n",
    "model.add(layers.MaxPooling2D(pool_size=(2, 2)))\n",
    "model.add(layers.Convolution2D(32, (3, 3), padding='same', activation= 'relu'))\n",
    "model.add(layers.MaxPooling2D(pool_size=(2, 2)))\n",
    "model.add(layers.Convolution2D(64, (3, 3), padding='same', activation= 'relu'))\n",
    "model.add(layers.MaxPooling2D(pool_size =(2,2)))\n",
    "model.add(layers.Flatten())\n",
    "model.add(layers.Dense(128, activation='relu'))\n",
    "model.add(layers.Dense(len(class_names), activation='softmax')) \n",
    "# Train model\n",
    "model.compile(loss='categorical_crossentropy',\n",
    "              optimizer='adam',\n",
    "              metrics=['top_k_categorical_accuracy'])\n",
    "model.summary()"
   ]
  },
  {
   "cell_type": "code",
   "execution_count": 10,
   "metadata": {},
   "outputs": [
    {
     "name": "stdout",
     "output_type": "stream",
     "text": [
      "Epoch 1/10\n",
      "563/563 - 34s - loss: 0.5071 - top_k_categorical_accuracy: 0.9751 - 34s/epoch - 60ms/step\n",
      "Epoch 2/10\n",
      "563/563 - 32s - loss: 0.2715 - top_k_categorical_accuracy: 0.9876 - 32s/epoch - 57ms/step\n",
      "Epoch 3/10\n",
      "563/563 - 31s - loss: 0.2257 - top_k_categorical_accuracy: 0.9899 - 31s/epoch - 54ms/step\n",
      "Epoch 4/10\n",
      "563/563 - 34s - loss: 0.1983 - top_k_categorical_accuracy: 0.9915 - 34s/epoch - 60ms/step\n",
      "Epoch 5/10\n",
      "563/563 - 30s - loss: 0.1808 - top_k_categorical_accuracy: 0.9922 - 30s/epoch - 54ms/step\n",
      "Epoch 6/10\n",
      "563/563 - 30s - loss: 0.1646 - top_k_categorical_accuracy: 0.9930 - 30s/epoch - 53ms/step\n",
      "Epoch 7/10\n",
      "563/563 - 32s - loss: 0.1540 - top_k_categorical_accuracy: 0.9937 - 32s/epoch - 56ms/step\n",
      "Epoch 8/10\n",
      "563/563 - 33s - loss: 0.1431 - top_k_categorical_accuracy: 0.9945 - 33s/epoch - 58ms/step\n",
      "Epoch 9/10\n",
      "563/563 - 33s - loss: 0.1346 - top_k_categorical_accuracy: 0.9948 - 33s/epoch - 59ms/step\n",
      "Epoch 10/10\n",
      "563/563 - 31s - loss: 0.1261 - top_k_categorical_accuracy: 0.9955 - 31s/epoch - 54ms/step\n",
      "Test accuracy: 99.20%\n"
     ]
    }
   ],
   "source": [
    "#fit the model \n",
    "model.fit(x_train, y_train, batch_size = 256, verbose=2, epochs=10)\n",
    "\n",
    "#evaluate on unseeFor prediction we use model.predict this will return probabilities of the shape [N, 100n data\n",
    "score = model.evaluate(x_test, y_test, verbose=0)\n",
    "print('Test accuracy: {:0.2f}%'.format(score[1] * 100))"
   ]
  },
  {
   "cell_type": "code",
   "execution_count": 13,
   "metadata": {},
   "outputs": [],
   "source": [
    "model.save('pretrained_model2.h5')"
   ]
  }
 ],
 "metadata": {
  "kernelspec": {
   "display_name": "geral",
   "language": "python",
   "name": "python3"
  },
  "language_info": {
   "codemirror_mode": {
    "name": "ipython",
    "version": 3
   },
   "file_extension": ".py",
   "mimetype": "text/x-python",
   "name": "python",
   "nbconvert_exporter": "python",
   "pygments_lexer": "ipython3",
   "version": "3.10.0"
  }
 },
 "nbformat": 4,
 "nbformat_minor": 2
}
